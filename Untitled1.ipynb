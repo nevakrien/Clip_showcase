{
 "cells": [
  {
   "cell_type": "code",
   "execution_count": 40,
   "id": "62d7f88b-00c9-46d6-9d44-805bf257eede",
   "metadata": {},
   "outputs": [],
   "source": [
    "# from diffusers.models import AutoencoderKL\n",
    "# from diffusers import StableDiffusionPipeline\n",
    "# from transformers import AutoImageProcessor\n",
    "\n",
    "# #model = \"CompVis/stable-diffusion-v1-4\"\n",
    "# vae_preprocessor = AutoImageProcessor.from_pretrained(\"stabilityai/sd-vae-ft-mse\")\n",
    "# vae = AutoencoderKL.from_pretrained(\"stabilityai/sd-vae-ft-mse\")\n",
    "# #pipe = StableDiffusionPipeline.from_pretrained(model, vae=vae)\n"
   ]
  },
  {
   "cell_type": "code",
   "execution_count": 19,
   "id": "7a7407f2-5ff0-426c-86b1-4ae0925dfa38",
   "metadata": {},
   "outputs": [],
   "source": [
    "# # vae.decoder\n",
    "# vae.encoder"
   ]
  },
  {
   "cell_type": "code",
   "execution_count": 96,
   "id": "d5a9b9d3-e412-48ba-ab0c-c5ab3de884d2",
   "metadata": {},
   "outputs": [
    {
     "data": {
      "text/plain": [
       "{'cat-in-hoody': <PIL.JpegImagePlugin.JpegImageFile image mode=RGB size=2560x2383>,\n",
       " 'cat': <PIL.JpegImagePlugin.JpegImageFile image mode=RGB size=196x183>,\n",
       " 'cool_dog': <PIL.JpegImagePlugin.JpegImageFile image mode=RGB size=612x408>,\n",
       " 'dogo': <PIL.JpegImagePlugin.JpegImageFile image mode=RGB size=194x182>,\n",
       " 'German-Shepherd': <PIL.WebPImagePlugin.WebPImageFile image mode=RGB size=1600x1144>}"
      ]
     },
     "execution_count": 96,
     "metadata": {},
     "output_type": "execute_result"
    }
   ],
   "source": [
    "from PIL import Image\n",
    "import os\n",
    "from  os.path import join\n",
    "# Dictionary to store images\n",
    "image_dir = \"images\"\n",
    "images_dict = {f.split('.')[0] : Image.open(join(image_dir,f)) for f in os.listdir(image_dir)}\n",
    "\n",
    "\n",
    "images_dict"
   ]
  },
  {
   "cell_type": "code",
   "execution_count": 97,
   "id": "83c2c698-308c-47d0-a140-6d5b4b744b60",
   "metadata": {},
   "outputs": [],
   "source": [
    "imgs = list(images_dict.values())"
   ]
  },
  {
   "cell_type": "code",
   "execution_count": 98,
   "id": "58f62400-c479-4038-a7a5-0cdd6acb66af",
   "metadata": {},
   "outputs": [
    {
     "name": "stderr",
     "output_type": "stream",
     "text": [
      "C:\\Users\\Intel\\OneDrive\\Desktop\\Clip_showcase\\torch_cpu\\Lib\\site-packages\\transformers\\tokenization_utils_base.py:1601: FutureWarning: `clean_up_tokenization_spaces` was not set. It will be set to `True` by default. This behavior will be depracted in transformers v4.45, and will be then set to `False` by default. For more details check this issue: https://github.com/huggingface/transformers/issues/31884\n",
      "  warnings.warn(\n"
     ]
    },
    {
     "data": {
      "text/plain": [
       "{'cat-in-hoody': tensor([0.9743, 0.0257]),\n",
       " 'cat': tensor([0.9955, 0.0045]),\n",
       " 'cool_dog': tensor([0.0027, 0.9973]),\n",
       " 'dogo': tensor([0.0021, 0.9979]),\n",
       " 'German-Shepherd': tensor([0.0012, 0.9988])}"
      ]
     },
     "execution_count": 98,
     "metadata": {},
     "output_type": "execute_result"
    }
   ],
   "source": [
    "import torch\n",
    "from transformers import CLIPProcessor, CLIPModel\n",
    "\n",
    "model = CLIPModel.from_pretrained(\"openai/clip-vit-base-patch32\")\n",
    "processor = CLIPProcessor.from_pretrained(\"openai/clip-vit-base-patch32\")\n",
    "\n",
    "\n",
    "inputs = processor(text=[\"a photo of a cat\", \"a photo of a dog\"], images=imgs, return_tensors=\"pt\", padding=True)\n",
    "with torch.no_grad():\n",
    "    outputs = model(**inputs)\n",
    "logits_per_image = outputs.logits_per_image  # this is the image-text similarity score\n",
    "probs = logits_per_image.softmax(dim=1)  # we can take the softmax to get the label probabilities\n",
    "{k:p for k,p in zip(images_dict.keys(),probs)}"
   ]
  },
  {
   "cell_type": "code",
   "execution_count": 99,
   "id": "ae69701f-010b-4a51-b737-7dcb1e09d964",
   "metadata": {},
   "outputs": [
    {
     "data": {
      "text/plain": [
       "odict_keys(['logits_per_image', 'logits_per_text', 'text_embeds', 'image_embeds', 'text_model_output', 'vision_model_output'])"
      ]
     },
     "execution_count": 99,
     "metadata": {},
     "output_type": "execute_result"
    }
   ],
   "source": [
    "outputs.keys()"
   ]
  },
  {
   "cell_type": "code",
   "execution_count": 100,
   "id": "87c3b9e8-a01e-4480-8fb1-fc190d1b6605",
   "metadata": {},
   "outputs": [
    {
     "data": {
      "text/plain": [
       "CLIPVisionTransformer(\n",
       "  (embeddings): CLIPVisionEmbeddings(\n",
       "    (patch_embedding): Conv2d(3, 768, kernel_size=(32, 32), stride=(32, 32), bias=False)\n",
       "    (position_embedding): Embedding(50, 768)\n",
       "  )\n",
       "  (pre_layrnorm): LayerNorm((768,), eps=1e-05, elementwise_affine=True)\n",
       "  (encoder): CLIPEncoder(\n",
       "    (layers): ModuleList(\n",
       "      (0-11): 12 x CLIPEncoderLayer(\n",
       "        (self_attn): CLIPSdpaAttention(\n",
       "          (k_proj): Linear(in_features=768, out_features=768, bias=True)\n",
       "          (v_proj): Linear(in_features=768, out_features=768, bias=True)\n",
       "          (q_proj): Linear(in_features=768, out_features=768, bias=True)\n",
       "          (out_proj): Linear(in_features=768, out_features=768, bias=True)\n",
       "        )\n",
       "        (layer_norm1): LayerNorm((768,), eps=1e-05, elementwise_affine=True)\n",
       "        (mlp): CLIPMLP(\n",
       "          (activation_fn): QuickGELUActivation()\n",
       "          (fc1): Linear(in_features=768, out_features=3072, bias=True)\n",
       "          (fc2): Linear(in_features=3072, out_features=768, bias=True)\n",
       "        )\n",
       "        (layer_norm2): LayerNorm((768,), eps=1e-05, elementwise_affine=True)\n",
       "      )\n",
       "    )\n",
       "  )\n",
       "  (post_layernorm): LayerNorm((768,), eps=1e-05, elementwise_affine=True)\n",
       ")"
      ]
     },
     "execution_count": 100,
     "metadata": {},
     "output_type": "execute_result"
    }
   ],
   "source": [
    "model.vision_model"
   ]
  },
  {
   "cell_type": "code",
   "execution_count": 101,
   "id": "9da298f6-d106-402c-a0b3-d9eb419bcf3c",
   "metadata": {},
   "outputs": [
    {
     "data": {
      "text/plain": [
       "dict_keys(['pixel_values'])"
      ]
     },
     "execution_count": 101,
     "metadata": {},
     "output_type": "execute_result"
    }
   ],
   "source": [
    "processor.image_processor(imgs).keys()"
   ]
  },
  {
   "cell_type": "code",
   "execution_count": 102,
   "id": "b7ac2287-6f64-4af4-bb2f-9ef70caf04eb",
   "metadata": {},
   "outputs": [
    {
     "data": {
      "text/plain": [
       "odict_keys(['last_hidden_state', 'pooler_output'])"
      ]
     },
     "execution_count": 102,
     "metadata": {},
     "output_type": "execute_result"
    }
   ],
   "source": [
    "inputs = processor.image_processor(imgs,return_tensors=\"pt\")\n",
    "with torch.no_grad():\n",
    "    outputs=model.vision_model(**inputs)\n",
    "outputs.keys()"
   ]
  },
  {
   "cell_type": "code",
   "execution_count": 103,
   "id": "e75a6ed1-7138-4a60-a44d-f136b5513d66",
   "metadata": {},
   "outputs": [
    {
     "data": {
      "text/plain": [
       "torch.Size([5, 768])"
      ]
     },
     "execution_count": 103,
     "metadata": {},
     "output_type": "execute_result"
    }
   ],
   "source": [
    "outputs.pooler_output.shape"
   ]
  },
  {
   "cell_type": "code",
   "execution_count": 104,
   "id": "57a00c48-5edc-49a2-8bb5-be5e9e39de2f",
   "metadata": {},
   "outputs": [
    {
     "data": {
      "text/plain": [
       "array([[1.        , 0.58044046, 0.6240957 , 0.48696494, 0.4724743 ],\n",
       "       [0.58044046, 1.        , 0.4462557 , 0.5894955 , 0.49053708],\n",
       "       [0.6240957 , 0.4462557 , 1.0000001 , 0.5256612 , 0.5203935 ],\n",
       "       [0.48696494, 0.5894955 , 0.5256612 , 1.        , 0.5787907 ],\n",
       "       [0.4724743 , 0.49053708, 0.5203935 , 0.5787907 , 1.0000001 ]],\n",
       "      dtype=float32)"
      ]
     },
     "execution_count": 104,
     "metadata": {},
     "output_type": "execute_result"
    }
   ],
   "source": [
    "def calc_sim(embeddings):\n",
    "    normed = embeddings/(embeddings*embeddings).mean(1).sqrt()[:,None]\n",
    "    cosine_sim = normed@normed.T/normed.shape[1]\n",
    "    return cosine_sim.cpu().numpy()\n",
    "\n",
    "sim = calc_sim(outputs.pooler_output)\n",
    "sim"
   ]
  },
  {
   "cell_type": "code",
   "execution_count": 106,
   "id": "349a8f9c-2972-4244-bbbb-c53700d693c5",
   "metadata": {},
   "outputs": [
    {
     "data": {
      "text/plain": [
       "<matplotlib.colorbar.Colorbar at 0x2275f461040>"
      ]
     },
     "execution_count": 106,
     "metadata": {},
     "output_type": "execute_result"
    },
    {
     "data": {
      "image/png": "[encoded data removed]",
      "text/plain": [
       "<Figure size 640x480 with 2 Axes>"
      ]
     },
     "metadata": {},
     "output_type": "display_data"
    }
   ],
   "source": [
    "import matplotlib.pyplot as plt\n",
    "\n",
    "plt.imshow(sim,cmap='Reds')\n",
    "plt.xticks(range(len(images_dict)), images_dict.keys(), rotation=90)\n",
    "plt.yticks(range(len(images_dict)), images_dict.keys())\n",
    "plt.colorbar()"
   ]
  },
  {
   "cell_type": "code",
   "execution_count": null,
   "id": "fa0b8a82-e648-40ae-9992-40a0a611809b",
   "metadata": {},
   "outputs": [],
   "source": []
  }
 ],
 "metadata": {
  "kernelspec": {
   "display_name": "Python 3 (ipykernel)",
   "language": "python",
   "name": "python3"
  },
  "language_info": {
   "codemirror_mode": {
    "name": "ipython",
    "version": 3
   },
   "file_extension": ".py",
   "mimetype": "text/x-python",
   "name": "python",
   "nbconvert_exporter": "python",
   "pygments_lexer": "ipython3",
   "version": "3.12.5"
  }
 },
 "nbformat": 4,
 "nbformat_minor": 5
}
